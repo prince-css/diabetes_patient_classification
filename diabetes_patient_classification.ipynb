{
  "nbformat": 4,
  "nbformat_minor": 0,
  "metadata": {
    "colab": {
      "name": "diabetes_patient_classification.ipynb",
      "provenance": []
    },
    "kernelspec": {
      "name": "python3",
      "display_name": "Python 3"
    },
    "language_info": {
      "name": "python"
    }
  },
  "cells": [
    {
      "cell_type": "markdown",
      "metadata": {
        "id": "DQM98BaJ0KNc"
      },
      "source": [
        "Importing basic libraries"
      ]
    },
    {
      "cell_type": "code",
      "metadata": {
        "id": "wJtQgNXZz0Lu"
      },
      "source": [
        "import pandas as pd\n",
        "import numpy as np\n",
        "import matplotlib.pyplot as plt"
      ],
      "execution_count": null,
      "outputs": []
    },
    {
      "cell_type": "markdown",
      "metadata": {
        "id": "9oqXs-N00ajO"
      },
      "source": [
        "Importing dataset"
      ]
    },
    {
      "cell_type": "code",
      "metadata": {
        "id": "NiqAiF2I0eEU"
      },
      "source": [
        "dataset= pd.read_csv(\"diabetes.csv\")\n",
        "X=dataset.iloc[:,:-1].values\n",
        "y=dataset.iloc[:,-1].values"
      ],
      "execution_count": null,
      "outputs": []
    },
    {
      "cell_type": "markdown",
      "metadata": {
        "id": "MqKFIcww1Lx8"
      },
      "source": [
        "Splitting dataset"
      ]
    },
    {
      "cell_type": "code",
      "metadata": {
        "id": "7QIFbpNq1J_e"
      },
      "source": [
        "from sklearn.model_selection import train_test_split\n",
        "X_train, X_test, y_train, y_test = train_test_split(X, y, test_size=0.25, random_state=12)"
      ],
      "execution_count": null,
      "outputs": []
    },
    {
      "cell_type": "code",
      "metadata": {
        "colab": {
          "base_uri": "https://localhost:8080/"
        },
        "id": "4BZOLbGX1tTl",
        "outputId": "ba94772b-56dc-4f53-d96b-bded4d2edd34"
      },
      "source": [
        "print(y_test)"
      ],
      "execution_count": null,
      "outputs": [
        {
          "output_type": "stream",
          "text": [
            "[0 1 1 0 0 0 1 0 0 0 0 1 0 0 0 0 1 1 1 0 1 1 0 0 1 1 0 1 1 0 1 1 0 1 0 0 0\n",
            " 1 0 0 0 0 0 1 1 0 0 1 0 0 0 0 0 1 1 0 1 0 0 0 0 1 0 0 1 0 0 0 0 0 0 0 1 0\n",
            " 0 1 1 0 0 0 0 0 0 1 0 0 1 0 0 0 0 0 0 0 1 1 1 0 0 0 1 0 0 1 1 0 1 1 1 0 1\n",
            " 1 0 0 1 0 0 0 0 1 1 0 0 1 0 0 1 0 0 1 0 1 1 0 0 1 1 0 0 0 0 0 0 0 1 0 0 0\n",
            " 0 1 0 1 1 0 0 0 1 1 1 1 1 1 0 1 0 1 1 1 1 0 0 0 0 0 0 0 0 0 0 0 0 0 1 0 1\n",
            " 0 1 0 1 0 0 1]\n"
          ],
          "name": "stdout"
        }
      ]
    },
    {
      "cell_type": "markdown",
      "metadata": {
        "id": "esd2ZBA31oPO"
      },
      "source": [
        "Feature Scaling"
      ]
    },
    {
      "cell_type": "code",
      "metadata": {
        "colab": {
          "base_uri": "https://localhost:8080/"
        },
        "id": "zwUV3LHc1q-w",
        "outputId": "6626065c-4993-47d9-9657-4181c27a4106"
      },
      "source": [
        "from sklearn.preprocessing import StandardScaler\n",
        "sc= StandardScaler()\n",
        "X_train=np.array(sc.fit_transform(X_train))\n",
        "print(X_train)"
      ],
      "execution_count": null,
      "outputs": [
        {
          "output_type": "stream",
          "text": [
            "[[-0.82612608 -0.56038838  0.57866102 ... -1.55405091  0.05677264\n",
            "  -0.95560232]\n",
            " [-1.12076919 -0.75223605 -0.25919286 ...  0.5893024   0.38163717\n",
            "  -0.69690253]\n",
            " [-0.82612608  0.55872304  0.68339276 ...  0.99580044 -0.70323153\n",
            "  -0.43820273]\n",
            " ...\n",
            " [-1.12076919 -1.10395679 -0.04972939 ...  0.46612118 -0.69727072\n",
            "  -0.69690253]\n",
            " [-0.82612608 -0.65631222 -0.15446113 ... -0.00196748 -0.08330656\n",
            "   0.769063  ]\n",
            " [ 1.82566191 -0.30459149  0.05500234 ... -0.55628299 -0.98637034\n",
            "   0.59659647]]\n"
          ],
          "name": "stdout"
        }
      ]
    },
    {
      "cell_type": "code",
      "metadata": {
        "id": "gCufTzlC2Z1Z"
      },
      "source": [
        "from sklearn.svm import SVC\n",
        "model=SVC()\n",
        "model.fit(X_train, y_train)\n",
        "y_pred=model.predict(np.array(sc.fit_transform(X_test)))"
      ],
      "execution_count": null,
      "outputs": []
    },
    {
      "cell_type": "code",
      "metadata": {
        "colab": {
          "base_uri": "https://localhost:8080/"
        },
        "id": "Mx40TAV1DlKu",
        "outputId": "1c4dce79-0fa8-4611-e9c3-7b136cffed51"
      },
      "source": [
        "from sklearn.metrics import accuracy_score, confusion_matrix\n",
        "print(confusion_matrix(y_test, y_pred))\n",
        "print(accuracy_score(y_test, y_pred))"
      ],
      "execution_count": null,
      "outputs": [
        {
          "output_type": "stream",
          "text": [
            "[[110  11]\n",
            " [ 30  41]]\n",
            "0.7864583333333334\n"
          ],
          "name": "stdout"
        }
      ]
    }
  ]
}